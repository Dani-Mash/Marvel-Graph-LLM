{
  "cells": [
    {
      "cell_type": "markdown",
      "metadata": {},
      "source": [
        "## Knowledge Graph Query Engine"
      ]
    },
    {
      "cell_type": "code",
      "execution_count": null,
      "metadata": {},
      "outputs": [],
      "source": [
        "# Setup: Import the knowledge graph query engine\n",
        "import sys\n",
        "from pathlib import Path\n",
        "import os\n",
        "\n",
        "current_dir = Path.cwd()\n",
        "project_root = None\n",
        "\n",
        "# Look for the project root by checking for app directory\n",
        "for parent in [current_dir] + list(current_dir.parents):\n",
        "    if (parent / \"app\").exists() and (parent / \"app\" / \"kg_query_engin.py\").exists():\n",
        "        project_root = parent\n",
        "        break\n",
        "\n",
        "if project_root is None:\n",
        "    # Fallback: assume we're in the notebooks directory\n",
        "    project_root = current_dir.parent\n",
        "\n",
        "sys.path.insert(0, str(project_root))\n",
        "\n",
        "from app.kg_query_engin import KnowledgeGraph, QueryInterpreter, GraphExecutor\n",
        "from app.config import DATA\n",
        "\n",
        "# Load the knowledge graph\n",
        "kg = KnowledgeGraph.from_graphml(DATA / \"marvel_kg.graphml\")\n",
        "interpreter = QueryInterpreter(kg)\n",
        "executor = GraphExecutor(kg)\n",
        "\n",
        "print(\"✅ Knowledge Graph loaded successfully!\")\n",
        "print(f\"📊 Graph has {len(kg.G.nodes)} nodes and {len(kg.G.edges)} edges\")\n",
        "print()"
      ]
    },
    {
      "cell_type": "markdown",
      "metadata": {},
      "source": [
        "### Test the knowledge graph query engine"
      ]
    },
    {
      "cell_type": "code",
      "execution_count": 3,
      "metadata": {},
      "outputs": [],
      "source": [
        "def test_query(query: str):\n",
        "    \"\"\"Test a query and display results with formatting.\"\"\"\n",
        "    print(f\"🔍 Query: {query}\")\n",
        "    \n",
        "    try:\n",
        "        plan = interpreter.interpret(query)\n",
        "        result = executor.execute(plan)\n",
        "        \n",
        "        print(f\"📋 Plan: {plan}\")\n",
        "        print(f\"🎯 Result: {result}\")\n",
        "        \n",
        "    except Exception as e:\n",
        "        print(f\"❌ Error: {e}\")\n",
        "    \n",
        "    print(\"-\" * 80)\n",
        "    print()"
      ]
    },
    {
      "cell_type": "markdown",
      "metadata": {},
      "source": [
        "## Test Character → Power Queries"
      ]
    },
    {
      "cell_type": "code",
      "execution_count": null,
      "metadata": {},
      "outputs": [],
      "source": [
        "print(\"🚀 1. CHARACTER → POWER QUERIES\")\n",
        "print(\"=\" * 50)\n",
        "\n",
        "test_query(\"What powers does Spider‑Man have?\")\n",
        "test_query(\"Which powers does Wolverine possess?\")\n",
        "test_query(\"What abilities does Cyclops have?\")\n",
        "test_query(\"Show me Storm's powers\")"
      ]
    },
    {
      "cell_type": "markdown",
      "metadata": {},
      "source": [
        "## Test Character → Team Queries"
      ]
    },
    {
      "cell_type": "code",
      "execution_count": null,
      "metadata": {},
      "outputs": [],
      "source": [
        "print(\"🚀 2. CHARACTER → TEAM QUERIES\")\n",
        "print(\"=\" * 50)\n",
        "\n",
        "test_query(\"What teams does Spider‑Man belong to?\")\n",
        "test_query(\"Which teams is Cyclops a member of?\")\n",
        "test_query(\"What groups does Wolverine join?\")\n",
        "test_query(\"Show me Storm's team affiliations\")"
      ]
    },
    {
      "cell_type": "markdown",
      "metadata": {},
      "source": [
        "## Test Character → Gene/Mutation Queries"
      ]
    },
    {
      "cell_type": "code",
      "execution_count": null,
      "metadata": {},
      "outputs": [],
      "source": [
        "print(\"🚀 3. CHARACTER → GENE/MUTATION QUERIES\")\n",
        "print(\"=\" * 50)\n",
        "\n",
        "test_query(\"Which gene does Spider‑Man have?\")\n",
        "test_query(\"What mutation does Wolverine have?\")\n",
        "test_query(\"Which gene does Cyclops have?\")\n",
        "test_query(\"What mutation does Hulk have?\")\n",
        "test_query(\"Which gene does Storm have?\")"
      ]
    },
    {
      "cell_type": "markdown",
      "metadata": {},
      "source": [
        "## Test Gene → Power Queries"
      ]
    },
    {
      "cell_type": "code",
      "execution_count": null,
      "metadata": {},
      "outputs": [],
      "source": [
        "print(\"🚀 4. GENE → POWER QUERIES\")\n",
        "print(\"=\" * 50)\n",
        "\n",
        "test_query(\"What powers does Regenerative Mutation confer?\")\n",
        "test_query(\"Which powers does Optic‑Blast give?\")\n",
        "test_query(\"What abilities does Radioactive Spider Mutation provide?\")\n",
        "test_query(\"Which powers does Weather Manipulation confer?\")"
      ]
    },
    {
      "cell_type": "markdown",
      "metadata": {},
      "source": [
        "## Test Power → Character Queries (Reverse)"
      ]
    },
    {
      "cell_type": "code",
      "execution_count": null,
      "metadata": {},
      "outputs": [],
      "source": [
        "print(\"🚀 5. POWER → CHARACTER QUERIES (REVERSE)\")\n",
        "print(\"=\" * 50)\n",
        "\n",
        "test_query(\"Which characters have Accelerated Healing?\")\n",
        "test_query(\"What characters possess Optic Blasts?\")\n",
        "test_query(\"Who has Superhuman Agility?\")\n",
        "test_query(\"Which characters have Enhanced Strength?\")"
      ]
    },
    {
      "cell_type": "markdown",
      "metadata": {},
      "source": [
        "## Test Team → Character Queries (Reverse)"
      ]
    },
    {
      "cell_type": "code",
      "execution_count": null,
      "metadata": {},
      "outputs": [],
      "source": [
        "print(\"🚀 6. TEAM → CHARACTER QUERIES (REVERSE)\")\n",
        "print(\"=\" * 50)\n",
        "\n",
        "test_query(\"What characters belong to X‑Men?\")\n",
        "test_query(\"Which characters are in Avengers?\")\n",
        "test_query(\"Who is part of the X‑Men team?\")\n",
        "test_query(\"Which characters join the Avengers?\")"
      ]
    },
    {
      "cell_type": "markdown",
      "metadata": {},
      "source": [
        "## Test Edge Cases and Error Handling"
      ]
    },
    {
      "cell_type": "code",
      "execution_count": null,
      "metadata": {},
      "outputs": [],
      "source": [
        "print(\"🚀 7. EDGE CASES AND ERROR HANDLING\")\n",
        "print(\"=\" * 50)\n",
        "\n",
        "# Test with unknown character\n",
        "test_query(\"What powers does Batman have?\")\n",
        "\n",
        "# Test with unknown power\n",
        "test_query(\"Which characters have Flying?\")\n",
        "\n",
        "# Test with unknown team\n",
        "test_query(\"What characters belong to Justice League?\")\n",
        "\n",
        "# Test with unknown gene\n",
        "test_query(\"What powers does Unknown Gene confer?\")"
      ]
    }
  ],
  "metadata": {
    "kernelspec": {
      "display_name": "venv",
      "language": "python",
      "name": "python3"
    },
    "language_info": {
      "codemirror_mode": {
        "name": "ipython",
        "version": 3
      },
      "file_extension": ".py",
      "mimetype": "text/x-python",
      "name": "python",
      "nbconvert_exporter": "python",
      "pygments_lexer": "ipython3",
      "version": "3.12.7"
    }
  },
  "nbformat": 4,
  "nbformat_minor": 4
}
